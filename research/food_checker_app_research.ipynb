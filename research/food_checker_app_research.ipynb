{
 "cells": [
  {
   "cell_type": "markdown",
   "id": "ad2f2419-37ce-4342-8573-8d925cd4707c",
   "metadata": {},
   "source": [
    "# Food Checker App: Research"
   ]
  },
  {
   "cell_type": "markdown",
   "id": "5816d8c4-6c6f-4a07-bf35-8c2e917acb36",
   "metadata": {},
   "source": [
    "## Whole Pipeline as a python callable"
   ]
  },
  {
   "cell_type": "code",
   "execution_count": 1,
   "id": "d0f97b4b-6eb0-47fa-b5ae-51e69386b735",
   "metadata": {},
   "outputs": [],
   "source": [
    "from openai import OpenAI\n",
    "import easyocr"
   ]
  },
  {
   "cell_type": "code",
   "execution_count": 2,
   "id": "d44be567-6158-4616-954b-a2f333bb2013",
   "metadata": {},
   "outputs": [],
   "source": [
    "reader = easyocr.Reader(['en'])"
   ]
  },
  {
   "cell_type": "code",
   "execution_count": 3,
   "id": "de4e7759-fe16-4040-acfb-c5dd83ebc445",
   "metadata": {},
   "outputs": [],
   "source": [
    "client = OpenAI()"
   ]
  },
  {
   "cell_type": "code",
   "execution_count": 4,
   "id": "b890a988-d724-496b-8150-a5bac1c17c9b",
   "metadata": {},
   "outputs": [],
   "source": [
    "zero_shot_prompt = '''You are en expert in NOVA Food Classification.\n",
    "Brief Overview of NOVA Food Classification:\n",
    "Unprocessed/Minimally Processed Foods: These include natural foods and those slightly altered by processes like drying, boiling, or freezing without adding other food substances.\n",
    "Processed Culinary Ingredients: Derived from natural foods or nature for use in cooking, such as oils, sugar, and salt, through pressing, refining, or extracting.\n",
    "Processed Foods: Made by adding processed culinary ingredients to natural foods for preservation or flavor enhancement, including canned goods and fermented breads and cheeses.\n",
    "Ultra-Processed Foods: Characterized by ingredients not typically used in kitchens or additives aimed at enhancing appeal or palatability, such as flavor enhancers, colors, and artificial sweeteners.\n",
    "\n",
    "Product ingredients: PRODUCT_INGREDIENTS\n",
    "    \n",
    "Based on the NOVA food classification system, classify the product into exactly one of the following categories:\n",
    "Ultra-Processed Foods\n",
    "Processed Foods\n",
    "Processed Culinary Ingredients\n",
    "Unprocessed and Minimally Processed Foods\n",
    "If you are unable to tell, say Unable to identify the food category\n",
    "\n",
    "Retrun only category\n",
    "'''"
   ]
  },
  {
   "cell_type": "code",
   "execution_count": 5,
   "id": "f2c31a7f-394a-48f7-a745-aff5522e6c90",
   "metadata": {},
   "outputs": [],
   "source": [
    "def food_nova_classififcation(photo_path):\n",
    "    \"\"\"nice docstring here\"\"\"\n",
    "\n",
    "    ingredients = str(reader.readtext(photo_path, detail = 0))\n",
    "\n",
    "    response = client.completions.create(\n",
    "        model=\"gpt-3.5-turbo-instruct\",\n",
    "        prompt=zero_shot_prompt.replace('PRODUCT_INGREDIENTS', ingredients),\n",
    "        temperature=0,\n",
    "    )\n",
    "    \n",
    "    return response.choices[0].text.strip()"
   ]
  },
  {
   "cell_type": "code",
   "execution_count": 6,
   "id": "52e47566-ecdc-4923-a6db-946d1208001e",
   "metadata": {},
   "outputs": [
    {
     "data": {
      "text/plain": [
       "'Ultra-Processed Foods'"
      ]
     },
     "execution_count": 6,
     "metadata": {},
     "output_type": "execute_result"
    }
   ],
   "source": [
    "food_nova_classififcation('coke.jpg')"
   ]
  },
  {
   "cell_type": "code",
   "execution_count": 7,
   "id": "91c8c8fc-bf1e-45ce-879a-992f4099d521",
   "metadata": {},
   "outputs": [
    {
     "data": {
      "text/plain": [
       "'Ultra-Processed Foods'"
      ]
     },
     "execution_count": 7,
     "metadata": {},
     "output_type": "execute_result"
    }
   ],
   "source": [
    "food_nova_classififcation('juice.jpg')"
   ]
  },
  {
   "cell_type": "code",
   "execution_count": 8,
   "id": "a9101871-b3fc-4512-9073-5e62a40b09b3",
   "metadata": {},
   "outputs": [
    {
     "data": {
      "text/plain": [
       "'Ultra-Processed Foods'"
      ]
     },
     "execution_count": 8,
     "metadata": {},
     "output_type": "execute_result"
    }
   ],
   "source": [
    "food_nova_classififcation('kefir.jpg')"
   ]
  },
  {
   "cell_type": "code",
   "execution_count": 9,
   "id": "4ac32b27-a0d4-4abe-9b1a-5192f92cea2f",
   "metadata": {},
   "outputs": [
    {
     "data": {
      "text/plain": [
       "'Processed Culinary Ingredients'"
      ]
     },
     "execution_count": 9,
     "metadata": {},
     "output_type": "execute_result"
    }
   ],
   "source": [
    "food_nova_classififcation('water.jpg')"
   ]
  },
  {
   "cell_type": "code",
   "execution_count": 10,
   "id": "79b8b217-9bbd-41f0-9002-2c3964bb356f",
   "metadata": {},
   "outputs": [
    {
     "data": {
      "text/plain": [
       "'Ultra-Processed Foods'"
      ]
     },
     "execution_count": 10,
     "metadata": {},
     "output_type": "execute_result"
    }
   ],
   "source": [
    "food_nova_classififcation('yogurt.jpg')"
   ]
  },
  {
   "cell_type": "code",
   "execution_count": 11,
   "id": "65ef5487-3f8a-4b7e-a1ec-4b4c815c751d",
   "metadata": {},
   "outputs": [
    {
     "data": {
      "text/plain": [
       "'Unable to identify the food category'"
      ]
     },
     "execution_count": 11,
     "metadata": {},
     "output_type": "execute_result"
    }
   ],
   "source": [
    "food_nova_classififcation('title.jpg')"
   ]
  },
  {
   "cell_type": "code",
   "execution_count": 12,
   "id": "a0adbc11-294c-4648-809a-babd2a2458b0",
   "metadata": {},
   "outputs": [
    {
     "data": {
      "text/plain": [
       "'Unable to identify the food category'"
      ]
     },
     "execution_count": 12,
     "metadata": {},
     "output_type": "execute_result"
    }
   ],
   "source": [
    "food_nova_classififcation('selfie.jpg')"
   ]
  }
 ],
 "metadata": {
  "kernelspec": {
   "display_name": "Python 3 (ipykernel)",
   "language": "python",
   "name": "python3"
  },
  "language_info": {
   "codemirror_mode": {
    "name": "ipython",
    "version": 3
   },
   "file_extension": ".py",
   "mimetype": "text/x-python",
   "name": "python",
   "nbconvert_exporter": "python",
   "pygments_lexer": "ipython3",
   "version": "3.11.8"
  }
 },
 "nbformat": 4,
 "nbformat_minor": 5
}
